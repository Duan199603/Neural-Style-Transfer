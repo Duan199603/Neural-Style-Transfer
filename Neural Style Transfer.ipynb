{
 "cells": [
  {
   "cell_type": "markdown",
   "metadata": {},
   "source": [
    "# Neural Style Transfer\n",
    "## 1. What are deep ConvNets learning\n",
    "\n"
   ]
  },
  {
   "cell_type": "markdown",
   "metadata": {},
   "source": [
    "## 2. Neural style transfer cost function\n",
    "#### J(Generated image G) = Alpha*Jcon(C,G) +Beta * Jstyle(S,G)"
   ]
  },
  {
   "cell_type": "markdown",
   "metadata": {},
   "source": [
    "## 3. Find the generated image G\n",
    "#### 1) Initiate G randomly \n",
    "##### G:100*100*3 \n",
    "#### 2) Use graident minimize J(G)"
   ]
  },
  {
   "cell_type": "markdown",
   "metadata": {},
   "source": [
    "## 4. Content cost function\n",
    "### J(Generated image G) = Alpha*Jcon(C,G) +Beta * Jstyle(S,G)\n",
    "#### Use hidden layer l to compute content cost\n",
    "#### Use pre-trained ConvNet (VGG network)\n",
    "#### Let a[l]'c'  and a[l]'g' be the activation of layer l on the images\n",
    "##### If a[l]'c' and a[l]'g' are similar, both images have similar content [ Jcon(C,G) = (1/2) *||a[l]'c'-a[l]'g'||^2]"
   ]
  },
  {
   "cell_type": "markdown",
   "metadata": {},
   "source": [
    "## 5.Style cost function\n",
    "### Style: define as correlation between activations across channels\n",
    "### 5.1 So, how correlated are the activations across different channels\n",
    "### 5.2 Style Matrix\n",
    "#### Let a[l] 'i,j,k ' = activation at( i(H), j(W), k(C)). Gstyle[l] = nc[l]*nc[l] (Channel l and l prime)\n",
    "#### Besides, Jstyle(S,G)[l] = ||G(s)[l]-G(G)[l]||f^2 * normalization"
   ]
  },
  {
   "cell_type": "code",
   "execution_count": null,
   "metadata": {
    "collapsed": true
   },
   "outputs": [],
   "source": []
  }
 ],
 "metadata": {
  "kernelspec": {
   "display_name": "Python 3",
   "language": "python",
   "name": "python3"
  },
  "language_info": {
   "codemirror_mode": {
    "name": "ipython",
    "version": 3
   },
   "file_extension": ".py",
   "mimetype": "text/x-python",
   "name": "python",
   "nbconvert_exporter": "python",
   "pygments_lexer": "ipython3",
   "version": "3.6.1"
  }
 },
 "nbformat": 4,
 "nbformat_minor": 2
}
